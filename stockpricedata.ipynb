{
 "cells": [
  {
   "cell_type": "code",
   "execution_count": 138,
   "metadata": {},
   "outputs": [],
   "source": [
    "import pandas as pd\n",
    "import matplotlib.pyplot as plt"
   ]
  },
  {
   "cell_type": "code",
   "execution_count": 139,
   "metadata": {},
   "outputs": [],
   "source": [
    "stock=pd.read_csv(r\"C:\\Users\\user\\stockprices.csv\")"
   ]
  },
  {
   "cell_type": "code",
   "execution_count": 140,
   "metadata": {},
   "outputs": [
    {
     "data": {
      "text/html": [
       "<div>\n",
       "<style scoped>\n",
       "    .dataframe tbody tr th:only-of-type {\n",
       "        vertical-align: middle;\n",
       "    }\n",
       "\n",
       "    .dataframe tbody tr th {\n",
       "        vertical-align: top;\n",
       "    }\n",
       "\n",
       "    .dataframe thead th {\n",
       "        text-align: right;\n",
       "    }\n",
       "</style>\n",
       "<table border=\"1\" class=\"dataframe\">\n",
       "  <thead>\n",
       "    <tr style=\"text-align: right;\">\n",
       "      <th></th>\n",
       "      <th>Date</th>\n",
       "      <th>Closing Price</th>\n",
       "    </tr>\n",
       "  </thead>\n",
       "  <tbody>\n",
       "    <tr>\n",
       "      <th>0</th>\n",
       "      <td>2023-01-01</td>\n",
       "      <td>100.25</td>\n",
       "    </tr>\n",
       "    <tr>\n",
       "      <th>1</th>\n",
       "      <td>2023-01-02</td>\n",
       "      <td>99.80</td>\n",
       "    </tr>\n",
       "    <tr>\n",
       "      <th>2</th>\n",
       "      <td>2023-01-03</td>\n",
       "      <td>101.15</td>\n",
       "    </tr>\n",
       "    <tr>\n",
       "      <th>3</th>\n",
       "      <td>2023-01-04</td>\n",
       "      <td>102.50</td>\n",
       "    </tr>\n",
       "    <tr>\n",
       "      <th>4</th>\n",
       "      <td>2023-01-05</td>\n",
       "      <td>103.10</td>\n",
       "    </tr>\n",
       "    <tr>\n",
       "      <th>...</th>\n",
       "      <td>...</td>\n",
       "      <td>...</td>\n",
       "    </tr>\n",
       "    <tr>\n",
       "      <th>271</th>\n",
       "      <td>2023-09-29</td>\n",
       "      <td>110.00</td>\n",
       "    </tr>\n",
       "    <tr>\n",
       "      <th>272</th>\n",
       "      <td>2023-09-30</td>\n",
       "      <td>109.80</td>\n",
       "    </tr>\n",
       "    <tr>\n",
       "      <th>273</th>\n",
       "      <td>2023-10-01</td>\n",
       "      <td>109.60</td>\n",
       "    </tr>\n",
       "    <tr>\n",
       "      <th>274</th>\n",
       "      <td>2023-10-02</td>\n",
       "      <td>109.80</td>\n",
       "    </tr>\n",
       "    <tr>\n",
       "      <th>275</th>\n",
       "      <td>2023-10-03</td>\n",
       "      <td>110.00</td>\n",
       "    </tr>\n",
       "  </tbody>\n",
       "</table>\n",
       "<p>276 rows × 2 columns</p>\n",
       "</div>"
      ],
      "text/plain": [
       "           Date  Closing Price\n",
       "0    2023-01-01         100.25\n",
       "1    2023-01-02          99.80\n",
       "2    2023-01-03         101.15\n",
       "3    2023-01-04         102.50\n",
       "4    2023-01-05         103.10\n",
       "..          ...            ...\n",
       "271  2023-09-29         110.00\n",
       "272  2023-09-30         109.80\n",
       "273  2023-10-01         109.60\n",
       "274  2023-10-02         109.80\n",
       "275  2023-10-03         110.00\n",
       "\n",
       "[276 rows x 2 columns]"
      ]
     },
     "execution_count": 140,
     "metadata": {},
     "output_type": "execute_result"
    }
   ],
   "source": [
    "stock"
   ]
  },
  {
   "cell_type": "code",
   "execution_count": 141,
   "metadata": {},
   "outputs": [
    {
     "name": "stdout",
     "output_type": "stream",
     "text": [
      "<class 'pandas.core.frame.DataFrame'>\n",
      "RangeIndex: 276 entries, 0 to 275\n",
      "Data columns (total 2 columns):\n",
      " #   Column         Non-Null Count  Dtype  \n",
      "---  ------         --------------  -----  \n",
      " 0   Date           276 non-null    object \n",
      " 1   Closing Price  276 non-null    float64\n",
      "dtypes: float64(1), object(1)\n",
      "memory usage: 4.4+ KB\n"
     ]
    }
   ],
   "source": [
    "stock.info()"
   ]
  },
  {
   "cell_type": "code",
   "execution_count": 142,
   "metadata": {},
   "outputs": [],
   "source": [
    "stock.drop_duplicates(inplace=True)"
   ]
  },
  {
   "cell_type": "code",
   "execution_count": 143,
   "metadata": {},
   "outputs": [
    {
     "data": {
      "text/plain": [
       "(276, 2)"
      ]
     },
     "execution_count": 143,
     "metadata": {},
     "output_type": "execute_result"
    }
   ],
   "source": [
    "stock.shape"
   ]
  },
  {
   "cell_type": "code",
   "execution_count": 144,
   "metadata": {},
   "outputs": [],
   "source": [
    "stock[[\"Year\",\"Month\",\"Day\"]]=stock[\"Date\"].str.split(\"-\",n=2,expand=True)"
   ]
  },
  {
   "cell_type": "code",
   "execution_count": 145,
   "metadata": {},
   "outputs": [
    {
     "data": {
      "text/html": [
       "<div>\n",
       "<style scoped>\n",
       "    .dataframe tbody tr th:only-of-type {\n",
       "        vertical-align: middle;\n",
       "    }\n",
       "\n",
       "    .dataframe tbody tr th {\n",
       "        vertical-align: top;\n",
       "    }\n",
       "\n",
       "    .dataframe thead th {\n",
       "        text-align: right;\n",
       "    }\n",
       "</style>\n",
       "<table border=\"1\" class=\"dataframe\">\n",
       "  <thead>\n",
       "    <tr style=\"text-align: right;\">\n",
       "      <th></th>\n",
       "      <th>Date</th>\n",
       "      <th>Closing Price</th>\n",
       "      <th>Year</th>\n",
       "      <th>Month</th>\n",
       "      <th>Day</th>\n",
       "    </tr>\n",
       "  </thead>\n",
       "  <tbody>\n",
       "    <tr>\n",
       "      <th>0</th>\n",
       "      <td>2023-01-01</td>\n",
       "      <td>100.25</td>\n",
       "      <td>2023</td>\n",
       "      <td>01</td>\n",
       "      <td>01</td>\n",
       "    </tr>\n",
       "    <tr>\n",
       "      <th>1</th>\n",
       "      <td>2023-01-02</td>\n",
       "      <td>99.80</td>\n",
       "      <td>2023</td>\n",
       "      <td>01</td>\n",
       "      <td>02</td>\n",
       "    </tr>\n",
       "    <tr>\n",
       "      <th>2</th>\n",
       "      <td>2023-01-03</td>\n",
       "      <td>101.15</td>\n",
       "      <td>2023</td>\n",
       "      <td>01</td>\n",
       "      <td>03</td>\n",
       "    </tr>\n",
       "    <tr>\n",
       "      <th>3</th>\n",
       "      <td>2023-01-04</td>\n",
       "      <td>102.50</td>\n",
       "      <td>2023</td>\n",
       "      <td>01</td>\n",
       "      <td>04</td>\n",
       "    </tr>\n",
       "    <tr>\n",
       "      <th>4</th>\n",
       "      <td>2023-01-05</td>\n",
       "      <td>103.10</td>\n",
       "      <td>2023</td>\n",
       "      <td>01</td>\n",
       "      <td>05</td>\n",
       "    </tr>\n",
       "    <tr>\n",
       "      <th>...</th>\n",
       "      <td>...</td>\n",
       "      <td>...</td>\n",
       "      <td>...</td>\n",
       "      <td>...</td>\n",
       "      <td>...</td>\n",
       "    </tr>\n",
       "    <tr>\n",
       "      <th>271</th>\n",
       "      <td>2023-09-29</td>\n",
       "      <td>110.00</td>\n",
       "      <td>2023</td>\n",
       "      <td>09</td>\n",
       "      <td>29</td>\n",
       "    </tr>\n",
       "    <tr>\n",
       "      <th>272</th>\n",
       "      <td>2023-09-30</td>\n",
       "      <td>109.80</td>\n",
       "      <td>2023</td>\n",
       "      <td>09</td>\n",
       "      <td>30</td>\n",
       "    </tr>\n",
       "    <tr>\n",
       "      <th>273</th>\n",
       "      <td>2023-10-01</td>\n",
       "      <td>109.60</td>\n",
       "      <td>2023</td>\n",
       "      <td>10</td>\n",
       "      <td>01</td>\n",
       "    </tr>\n",
       "    <tr>\n",
       "      <th>274</th>\n",
       "      <td>2023-10-02</td>\n",
       "      <td>109.80</td>\n",
       "      <td>2023</td>\n",
       "      <td>10</td>\n",
       "      <td>02</td>\n",
       "    </tr>\n",
       "    <tr>\n",
       "      <th>275</th>\n",
       "      <td>2023-10-03</td>\n",
       "      <td>110.00</td>\n",
       "      <td>2023</td>\n",
       "      <td>10</td>\n",
       "      <td>03</td>\n",
       "    </tr>\n",
       "  </tbody>\n",
       "</table>\n",
       "<p>276 rows × 5 columns</p>\n",
       "</div>"
      ],
      "text/plain": [
       "           Date  Closing Price  Year Month Day\n",
       "0    2023-01-01         100.25  2023    01  01\n",
       "1    2023-01-02          99.80  2023    01  02\n",
       "2    2023-01-03         101.15  2023    01  03\n",
       "3    2023-01-04         102.50  2023    01  04\n",
       "4    2023-01-05         103.10  2023    01  05\n",
       "..          ...            ...   ...   ...  ..\n",
       "271  2023-09-29         110.00  2023    09  29\n",
       "272  2023-09-30         109.80  2023    09  30\n",
       "273  2023-10-01         109.60  2023    10  01\n",
       "274  2023-10-02         109.80  2023    10  02\n",
       "275  2023-10-03         110.00  2023    10  03\n",
       "\n",
       "[276 rows x 5 columns]"
      ]
     },
     "execution_count": 145,
     "metadata": {},
     "output_type": "execute_result"
    }
   ],
   "source": [
    "stock"
   ]
  },
  {
   "cell_type": "code",
   "execution_count": 146,
   "metadata": {},
   "outputs": [],
   "source": [
    "stock.drop(columns=\"Date\",inplace=True)"
   ]
  },
  {
   "cell_type": "code",
   "execution_count": 147,
   "metadata": {},
   "outputs": [],
   "source": [
    "aveyrcp=stock[\"Closing Price\"].mean()"
   ]
  },
  {
   "cell_type": "code",
   "execution_count": 148,
   "metadata": {},
   "outputs": [
    {
     "name": "stdout",
     "output_type": "stream",
     "text": [
      "The Average Price for the year is  105.11340579710145\n"
     ]
    }
   ],
   "source": [
    "print(\"The Average Price for the year is \",aveyrcp)"
   ]
  },
  {
   "cell_type": "code",
   "execution_count": 149,
   "metadata": {},
   "outputs": [],
   "source": [
    "stock[\"Month\"]=stock[\"Month\"].astype(str)"
   ]
  },
  {
   "cell_type": "code",
   "execution_count": 150,
   "metadata": {},
   "outputs": [],
   "source": [
    "for i in stock.index:\n",
    "    if stock.loc[i,\"Month\"]==\"01\":\n",
    "        stock.loc[i,\"Month\"]=\"January\"\n",
    "    elif stock.loc[i,\"Month\"]==\"02\":\n",
    "        stock.loc[i,\"Month\"]=\"February\"\n",
    "    elif stock.loc[i,\"Month\"]==\"03\":\n",
    "        stock.loc[i,\"Month\"]=\"March\"\n",
    "    elif stock.loc[i,\"Month\"]==\"04\":\n",
    "        stock.loc[i,\"Month\"]=\"April\"\n",
    "    elif stock.loc[i,\"Month\"]==\"05\":\n",
    "        stock.loc[i,\"Month\"]=\"May\"\n",
    "    elif stock.loc[i,\"Month\"]==\"06\":\n",
    "        stock.loc[i,\"Month\"]=\"June\"\n",
    "    elif stock.loc[i,\"Month\"]==\"07\":\n",
    "        stock.loc[i,\"Month\"]=\"July\"\n",
    "    elif stock.loc[i,\"Month\"]==\"08\":\n",
    "        stock.loc[i,\"Month\"]=\"August\"\n",
    "    elif stock.loc[i,\"Month\"]==\"09\":\n",
    "        stock.loc[i,\"Month\"]=\"September\"\n",
    "    elif stock.loc[i,\"Month\"]==\"10\":\n",
    "        stock.loc[i,\"Month\"]=\"October\""
   ]
  },
  {
   "cell_type": "code",
   "execution_count": 151,
   "metadata": {},
   "outputs": [
    {
     "data": {
      "text/html": [
       "<div>\n",
       "<style scoped>\n",
       "    .dataframe tbody tr th:only-of-type {\n",
       "        vertical-align: middle;\n",
       "    }\n",
       "\n",
       "    .dataframe tbody tr th {\n",
       "        vertical-align: top;\n",
       "    }\n",
       "\n",
       "    .dataframe thead th {\n",
       "        text-align: right;\n",
       "    }\n",
       "</style>\n",
       "<table border=\"1\" class=\"dataframe\">\n",
       "  <thead>\n",
       "    <tr style=\"text-align: right;\">\n",
       "      <th></th>\n",
       "      <th>Closing Price</th>\n",
       "      <th>Year</th>\n",
       "      <th>Month</th>\n",
       "      <th>Day</th>\n",
       "    </tr>\n",
       "  </thead>\n",
       "  <tbody>\n",
       "    <tr>\n",
       "      <th>0</th>\n",
       "      <td>100.25</td>\n",
       "      <td>2023</td>\n",
       "      <td>January</td>\n",
       "      <td>01</td>\n",
       "    </tr>\n",
       "    <tr>\n",
       "      <th>1</th>\n",
       "      <td>99.80</td>\n",
       "      <td>2023</td>\n",
       "      <td>January</td>\n",
       "      <td>02</td>\n",
       "    </tr>\n",
       "    <tr>\n",
       "      <th>2</th>\n",
       "      <td>101.15</td>\n",
       "      <td>2023</td>\n",
       "      <td>January</td>\n",
       "      <td>03</td>\n",
       "    </tr>\n",
       "    <tr>\n",
       "      <th>3</th>\n",
       "      <td>102.50</td>\n",
       "      <td>2023</td>\n",
       "      <td>January</td>\n",
       "      <td>04</td>\n",
       "    </tr>\n",
       "    <tr>\n",
       "      <th>4</th>\n",
       "      <td>103.10</td>\n",
       "      <td>2023</td>\n",
       "      <td>January</td>\n",
       "      <td>05</td>\n",
       "    </tr>\n",
       "    <tr>\n",
       "      <th>...</th>\n",
       "      <td>...</td>\n",
       "      <td>...</td>\n",
       "      <td>...</td>\n",
       "      <td>...</td>\n",
       "    </tr>\n",
       "    <tr>\n",
       "      <th>271</th>\n",
       "      <td>110.00</td>\n",
       "      <td>2023</td>\n",
       "      <td>September</td>\n",
       "      <td>29</td>\n",
       "    </tr>\n",
       "    <tr>\n",
       "      <th>272</th>\n",
       "      <td>109.80</td>\n",
       "      <td>2023</td>\n",
       "      <td>September</td>\n",
       "      <td>30</td>\n",
       "    </tr>\n",
       "    <tr>\n",
       "      <th>273</th>\n",
       "      <td>109.60</td>\n",
       "      <td>2023</td>\n",
       "      <td>October</td>\n",
       "      <td>01</td>\n",
       "    </tr>\n",
       "    <tr>\n",
       "      <th>274</th>\n",
       "      <td>109.80</td>\n",
       "      <td>2023</td>\n",
       "      <td>October</td>\n",
       "      <td>02</td>\n",
       "    </tr>\n",
       "    <tr>\n",
       "      <th>275</th>\n",
       "      <td>110.00</td>\n",
       "      <td>2023</td>\n",
       "      <td>October</td>\n",
       "      <td>03</td>\n",
       "    </tr>\n",
       "  </tbody>\n",
       "</table>\n",
       "<p>276 rows × 4 columns</p>\n",
       "</div>"
      ],
      "text/plain": [
       "     Closing Price  Year      Month Day\n",
       "0           100.25  2023    January  01\n",
       "1            99.80  2023    January  02\n",
       "2           101.15  2023    January  03\n",
       "3           102.50  2023    January  04\n",
       "4           103.10  2023    January  05\n",
       "..             ...   ...        ...  ..\n",
       "271         110.00  2023  September  29\n",
       "272         109.80  2023  September  30\n",
       "273         109.60  2023    October  01\n",
       "274         109.80  2023    October  02\n",
       "275         110.00  2023    October  03\n",
       "\n",
       "[276 rows x 4 columns]"
      ]
     },
     "execution_count": 151,
     "metadata": {},
     "output_type": "execute_result"
    }
   ],
   "source": [
    "stock"
   ]
  },
  {
   "cell_type": "code",
   "execution_count": 152,
   "metadata": {},
   "outputs": [],
   "source": [
    "stockmonprave=stock.groupby(\"Month\")[\"Closing Price\"].mean()"
   ]
  },
  {
   "cell_type": "code",
   "execution_count": 153,
   "metadata": {},
   "outputs": [
    {
     "name": "stdout",
     "output_type": "stream",
     "text": [
      "The Average Price for each months is \n"
     ]
    },
    {
     "data": {
      "text/html": [
       "<div>\n",
       "<style scoped>\n",
       "    .dataframe tbody tr th:only-of-type {\n",
       "        vertical-align: middle;\n",
       "    }\n",
       "\n",
       "    .dataframe tbody tr th {\n",
       "        vertical-align: top;\n",
       "    }\n",
       "\n",
       "    .dataframe thead th {\n",
       "        text-align: right;\n",
       "    }\n",
       "</style>\n",
       "<table border=\"1\" class=\"dataframe\">\n",
       "  <thead>\n",
       "    <tr style=\"text-align: right;\">\n",
       "      <th></th>\n",
       "      <th>Closing Price</th>\n",
       "    </tr>\n",
       "    <tr>\n",
       "      <th>Month</th>\n",
       "      <th></th>\n",
       "    </tr>\n",
       "  </thead>\n",
       "  <tbody>\n",
       "    <tr>\n",
       "      <th>February</th>\n",
       "      <td>99.794643</td>\n",
       "    </tr>\n",
       "    <tr>\n",
       "      <th>January</th>\n",
       "      <td>101.404839</td>\n",
       "    </tr>\n",
       "    <tr>\n",
       "      <th>March</th>\n",
       "      <td>101.877419</td>\n",
       "    </tr>\n",
       "    <tr>\n",
       "      <th>April</th>\n",
       "      <td>103.686667</td>\n",
       "    </tr>\n",
       "    <tr>\n",
       "      <th>May</th>\n",
       "      <td>104.487097</td>\n",
       "    </tr>\n",
       "    <tr>\n",
       "      <th>June</th>\n",
       "      <td>106.113333</td>\n",
       "    </tr>\n",
       "    <tr>\n",
       "      <th>July</th>\n",
       "      <td>108.019355</td>\n",
       "    </tr>\n",
       "    <tr>\n",
       "      <th>October</th>\n",
       "      <td>109.800000</td>\n",
       "    </tr>\n",
       "    <tr>\n",
       "      <th>August</th>\n",
       "      <td>109.858065</td>\n",
       "    </tr>\n",
       "    <tr>\n",
       "      <th>September</th>\n",
       "      <td>109.953333</td>\n",
       "    </tr>\n",
       "  </tbody>\n",
       "</table>\n",
       "</div>"
      ],
      "text/plain": [
       "           Closing Price\n",
       "Month                   \n",
       "February       99.794643\n",
       "January       101.404839\n",
       "March         101.877419\n",
       "April         103.686667\n",
       "May           104.487097\n",
       "June          106.113333\n",
       "July          108.019355\n",
       "October       109.800000\n",
       "August        109.858065\n",
       "September     109.953333"
      ]
     },
     "execution_count": 153,
     "metadata": {},
     "output_type": "execute_result"
    }
   ],
   "source": [
    "print(\"The Average Price for each months is \")\n",
    "avm=pd.DataFrame(stockmonprave.sort_values())\n",
    "avm"
   ]
  },
  {
   "cell_type": "code",
   "execution_count": 154,
   "metadata": {},
   "outputs": [
    {
     "data": {
      "text/plain": [
       "<Axes: title={'center': 'Average Closing Price Over Each Month'}, xlabel='Month'>"
      ]
     },
     "execution_count": 154,
     "metadata": {},
     "output_type": "execute_result"
    },
    {
     "data": {
      "image/png": "[encoded data removed]",
      "text/plain": [
       "<Figure size 640x480 with 1 Axes>"
      ]
     },
     "metadata": {},
     "output_type": "display_data"
    }
   ],
   "source": [
    "avm.plot(kind=\"bar\",title=\"Average Closing Price Over Each Month\")"
   ]
  },
  {
   "cell_type": "code",
   "execution_count": 155,
   "metadata": {},
   "outputs": [],
   "source": [
    "for i in stock.index:\n",
    "    dayno=int(stock.loc[i,\"Day\"])\n",
    "    if dayno%7==0:\n",
    "        stock.loc[i,\"Week_No\"]=\"Week \"+str(dayno/7)\n",
    "    elif dayno>28:\n",
    "        stock.loc[i,\"Week_No\"]=\"Week \"+str(int(dayno/7))\n",
    "    else:\n",
    "        stock.loc[i,\"Week_No\"]=\"Week \"+str(int(dayno/7)+1)\n",
    "\n"
   ]
  },
  {
   "cell_type": "code",
   "execution_count": 156,
   "metadata": {},
   "outputs": [],
   "source": [
    "stock[\"Week_No\"]=stock[\"Week_No\"].astype(str)"
   ]
  },
  {
   "cell_type": "code",
   "execution_count": 157,
   "metadata": {},
   "outputs": [],
   "source": [
    "stock[\"Week_No\"]=stock[\"Week_No\"].str.strip(\".0\")"
   ]
  },
  {
   "cell_type": "code",
   "execution_count": 158,
   "metadata": {},
   "outputs": [
    {
     "data": {
      "text/html": [
       "<div>\n",
       "<style scoped>\n",
       "    .dataframe tbody tr th:only-of-type {\n",
       "        vertical-align: middle;\n",
       "    }\n",
       "\n",
       "    .dataframe tbody tr th {\n",
       "        vertical-align: top;\n",
       "    }\n",
       "\n",
       "    .dataframe thead th {\n",
       "        text-align: right;\n",
       "    }\n",
       "</style>\n",
       "<table border=\"1\" class=\"dataframe\">\n",
       "  <thead>\n",
       "    <tr style=\"text-align: right;\">\n",
       "      <th></th>\n",
       "      <th>Closing Price</th>\n",
       "      <th>Year</th>\n",
       "      <th>Month</th>\n",
       "      <th>Day</th>\n",
       "      <th>Week_No</th>\n",
       "    </tr>\n",
       "  </thead>\n",
       "  <tbody>\n",
       "    <tr>\n",
       "      <th>0</th>\n",
       "      <td>100.25</td>\n",
       "      <td>2023</td>\n",
       "      <td>January</td>\n",
       "      <td>01</td>\n",
       "      <td>Week 1</td>\n",
       "    </tr>\n",
       "    <tr>\n",
       "      <th>1</th>\n",
       "      <td>99.80</td>\n",
       "      <td>2023</td>\n",
       "      <td>January</td>\n",
       "      <td>02</td>\n",
       "      <td>Week 1</td>\n",
       "    </tr>\n",
       "    <tr>\n",
       "      <th>2</th>\n",
       "      <td>101.15</td>\n",
       "      <td>2023</td>\n",
       "      <td>January</td>\n",
       "      <td>03</td>\n",
       "      <td>Week 1</td>\n",
       "    </tr>\n",
       "    <tr>\n",
       "      <th>3</th>\n",
       "      <td>102.50</td>\n",
       "      <td>2023</td>\n",
       "      <td>January</td>\n",
       "      <td>04</td>\n",
       "      <td>Week 1</td>\n",
       "    </tr>\n",
       "    <tr>\n",
       "      <th>4</th>\n",
       "      <td>103.10</td>\n",
       "      <td>2023</td>\n",
       "      <td>January</td>\n",
       "      <td>05</td>\n",
       "      <td>Week 1</td>\n",
       "    </tr>\n",
       "    <tr>\n",
       "      <th>5</th>\n",
       "      <td>101.80</td>\n",
       "      <td>2023</td>\n",
       "      <td>January</td>\n",
       "      <td>06</td>\n",
       "      <td>Week 1</td>\n",
       "    </tr>\n",
       "    <tr>\n",
       "      <th>6</th>\n",
       "      <td>100.90</td>\n",
       "      <td>2023</td>\n",
       "      <td>January</td>\n",
       "      <td>07</td>\n",
       "      <td>Week 1</td>\n",
       "    </tr>\n",
       "    <tr>\n",
       "      <th>7</th>\n",
       "      <td>99.75</td>\n",
       "      <td>2023</td>\n",
       "      <td>January</td>\n",
       "      <td>08</td>\n",
       "      <td>Week 2</td>\n",
       "    </tr>\n",
       "    <tr>\n",
       "      <th>8</th>\n",
       "      <td>98.95</td>\n",
       "      <td>2023</td>\n",
       "      <td>January</td>\n",
       "      <td>09</td>\n",
       "      <td>Week 2</td>\n",
       "    </tr>\n",
       "    <tr>\n",
       "      <th>9</th>\n",
       "      <td>99.50</td>\n",
       "      <td>2023</td>\n",
       "      <td>January</td>\n",
       "      <td>10</td>\n",
       "      <td>Week 2</td>\n",
       "    </tr>\n",
       "    <tr>\n",
       "      <th>10</th>\n",
       "      <td>101.20</td>\n",
       "      <td>2023</td>\n",
       "      <td>January</td>\n",
       "      <td>11</td>\n",
       "      <td>Week 2</td>\n",
       "    </tr>\n",
       "    <tr>\n",
       "      <th>11</th>\n",
       "      <td>102.75</td>\n",
       "      <td>2023</td>\n",
       "      <td>January</td>\n",
       "      <td>12</td>\n",
       "      <td>Week 2</td>\n",
       "    </tr>\n",
       "    <tr>\n",
       "      <th>12</th>\n",
       "      <td>104.20</td>\n",
       "      <td>2023</td>\n",
       "      <td>January</td>\n",
       "      <td>13</td>\n",
       "      <td>Week 2</td>\n",
       "    </tr>\n",
       "    <tr>\n",
       "      <th>13</th>\n",
       "      <td>102.50</td>\n",
       "      <td>2023</td>\n",
       "      <td>January</td>\n",
       "      <td>14</td>\n",
       "      <td>Week 2</td>\n",
       "    </tr>\n",
       "    <tr>\n",
       "      <th>14</th>\n",
       "      <td>101.30</td>\n",
       "      <td>2023</td>\n",
       "      <td>January</td>\n",
       "      <td>15</td>\n",
       "      <td>Week 3</td>\n",
       "    </tr>\n",
       "    <tr>\n",
       "      <th>15</th>\n",
       "      <td>101.80</td>\n",
       "      <td>2023</td>\n",
       "      <td>January</td>\n",
       "      <td>16</td>\n",
       "      <td>Week 3</td>\n",
       "    </tr>\n",
       "    <tr>\n",
       "      <th>16</th>\n",
       "      <td>103.00</td>\n",
       "      <td>2023</td>\n",
       "      <td>January</td>\n",
       "      <td>17</td>\n",
       "      <td>Week 3</td>\n",
       "    </tr>\n",
       "    <tr>\n",
       "      <th>17</th>\n",
       "      <td>102.10</td>\n",
       "      <td>2023</td>\n",
       "      <td>January</td>\n",
       "      <td>18</td>\n",
       "      <td>Week 3</td>\n",
       "    </tr>\n",
       "    <tr>\n",
       "      <th>18</th>\n",
       "      <td>103.50</td>\n",
       "      <td>2023</td>\n",
       "      <td>January</td>\n",
       "      <td>19</td>\n",
       "      <td>Week 3</td>\n",
       "    </tr>\n",
       "    <tr>\n",
       "      <th>19</th>\n",
       "      <td>102.80</td>\n",
       "      <td>2023</td>\n",
       "      <td>January</td>\n",
       "      <td>20</td>\n",
       "      <td>Week 3</td>\n",
       "    </tr>\n",
       "    <tr>\n",
       "      <th>20</th>\n",
       "      <td>101.90</td>\n",
       "      <td>2023</td>\n",
       "      <td>January</td>\n",
       "      <td>21</td>\n",
       "      <td>Week 3</td>\n",
       "    </tr>\n",
       "    <tr>\n",
       "      <th>21</th>\n",
       "      <td>101.40</td>\n",
       "      <td>2023</td>\n",
       "      <td>January</td>\n",
       "      <td>22</td>\n",
       "      <td>Week 4</td>\n",
       "    </tr>\n",
       "    <tr>\n",
       "      <th>22</th>\n",
       "      <td>100.75</td>\n",
       "      <td>2023</td>\n",
       "      <td>January</td>\n",
       "      <td>23</td>\n",
       "      <td>Week 4</td>\n",
       "    </tr>\n",
       "    <tr>\n",
       "      <th>23</th>\n",
       "      <td>100.50</td>\n",
       "      <td>2023</td>\n",
       "      <td>January</td>\n",
       "      <td>24</td>\n",
       "      <td>Week 4</td>\n",
       "    </tr>\n",
       "    <tr>\n",
       "      <th>24</th>\n",
       "      <td>101.20</td>\n",
       "      <td>2023</td>\n",
       "      <td>January</td>\n",
       "      <td>25</td>\n",
       "      <td>Week 4</td>\n",
       "    </tr>\n",
       "    <tr>\n",
       "      <th>25</th>\n",
       "      <td>102.00</td>\n",
       "      <td>2023</td>\n",
       "      <td>January</td>\n",
       "      <td>26</td>\n",
       "      <td>Week 4</td>\n",
       "    </tr>\n",
       "    <tr>\n",
       "      <th>26</th>\n",
       "      <td>101.70</td>\n",
       "      <td>2023</td>\n",
       "      <td>January</td>\n",
       "      <td>27</td>\n",
       "      <td>Week 4</td>\n",
       "    </tr>\n",
       "    <tr>\n",
       "      <th>27</th>\n",
       "      <td>100.90</td>\n",
       "      <td>2023</td>\n",
       "      <td>January</td>\n",
       "      <td>28</td>\n",
       "      <td>Week 4</td>\n",
       "    </tr>\n",
       "    <tr>\n",
       "      <th>28</th>\n",
       "      <td>100.40</td>\n",
       "      <td>2023</td>\n",
       "      <td>January</td>\n",
       "      <td>29</td>\n",
       "      <td>Week 4</td>\n",
       "    </tr>\n",
       "    <tr>\n",
       "      <th>29</th>\n",
       "      <td>99.85</td>\n",
       "      <td>2023</td>\n",
       "      <td>January</td>\n",
       "      <td>30</td>\n",
       "      <td>Week 4</td>\n",
       "    </tr>\n",
       "    <tr>\n",
       "      <th>30</th>\n",
       "      <td>100.10</td>\n",
       "      <td>2023</td>\n",
       "      <td>January</td>\n",
       "      <td>31</td>\n",
       "      <td>Week 4</td>\n",
       "    </tr>\n",
       "    <tr>\n",
       "      <th>31</th>\n",
       "      <td>100.60</td>\n",
       "      <td>2023</td>\n",
       "      <td>February</td>\n",
       "      <td>01</td>\n",
       "      <td>Week 1</td>\n",
       "    </tr>\n",
       "  </tbody>\n",
       "</table>\n",
       "</div>"
      ],
      "text/plain": [
       "    Closing Price  Year     Month Day Week_No\n",
       "0          100.25  2023   January  01  Week 1\n",
       "1           99.80  2023   January  02  Week 1\n",
       "2          101.15  2023   January  03  Week 1\n",
       "3          102.50  2023   January  04  Week 1\n",
       "4          103.10  2023   January  05  Week 1\n",
       "5          101.80  2023   January  06  Week 1\n",
       "6          100.90  2023   January  07  Week 1\n",
       "7           99.75  2023   January  08  Week 2\n",
       "8           98.95  2023   January  09  Week 2\n",
       "9           99.50  2023   January  10  Week 2\n",
       "10         101.20  2023   January  11  Week 2\n",
       "11         102.75  2023   January  12  Week 2\n",
       "12         104.20  2023   January  13  Week 2\n",
       "13         102.50  2023   January  14  Week 2\n",
       "14         101.30  2023   January  15  Week 3\n",
       "15         101.80  2023   January  16  Week 3\n",
       "16         103.00  2023   January  17  Week 3\n",
       "17         102.10  2023   January  18  Week 3\n",
       "18         103.50  2023   January  19  Week 3\n",
       "19         102.80  2023   January  20  Week 3\n",
       "20         101.90  2023   January  21  Week 3\n",
       "21         101.40  2023   January  22  Week 4\n",
       "22         100.75  2023   January  23  Week 4\n",
       "23         100.50  2023   January  24  Week 4\n",
       "24         101.20  2023   January  25  Week 4\n",
       "25         102.00  2023   January  26  Week 4\n",
       "26         101.70  2023   January  27  Week 4\n",
       "27         100.90  2023   January  28  Week 4\n",
       "28         100.40  2023   January  29  Week 4\n",
       "29          99.85  2023   January  30  Week 4\n",
       "30         100.10  2023   January  31  Week 4\n",
       "31         100.60  2023  February  01  Week 1"
      ]
     },
     "execution_count": 158,
     "metadata": {},
     "output_type": "execute_result"
    }
   ],
   "source": [
    "stock[:32]"
   ]
  },
  {
   "cell_type": "code",
   "execution_count": 159,
   "metadata": {},
   "outputs": [],
   "source": [
    "stockwkpr=stock.groupby(\"Week_No\")[\"Closing Price\"].mean()"
   ]
  },
  {
   "cell_type": "code",
   "execution_count": 160,
   "metadata": {},
   "outputs": [
    {
     "name": "stdout",
     "output_type": "stream",
     "text": [
      "The Average Price for each weeks is \n"
     ]
    },
    {
     "data": {
      "text/html": [
       "<div>\n",
       "<style scoped>\n",
       "    .dataframe tbody tr th:only-of-type {\n",
       "        vertical-align: middle;\n",
       "    }\n",
       "\n",
       "    .dataframe tbody tr th {\n",
       "        vertical-align: top;\n",
       "    }\n",
       "\n",
       "    .dataframe thead th {\n",
       "        text-align: right;\n",
       "    }\n",
       "</style>\n",
       "<table border=\"1\" class=\"dataframe\">\n",
       "  <thead>\n",
       "    <tr style=\"text-align: right;\">\n",
       "      <th></th>\n",
       "      <th>Closing Price</th>\n",
       "    </tr>\n",
       "    <tr>\n",
       "      <th>Week_No</th>\n",
       "      <th></th>\n",
       "    </tr>\n",
       "  </thead>\n",
       "  <tbody>\n",
       "    <tr>\n",
       "      <th>Week 1</th>\n",
       "      <td>104.735606</td>\n",
       "    </tr>\n",
       "    <tr>\n",
       "      <th>Week 2</th>\n",
       "      <td>104.770635</td>\n",
       "    </tr>\n",
       "    <tr>\n",
       "      <th>Week 3</th>\n",
       "      <td>105.226984</td>\n",
       "    </tr>\n",
       "    <tr>\n",
       "      <th>Week 4</th>\n",
       "      <td>105.582143</td>\n",
       "    </tr>\n",
       "  </tbody>\n",
       "</table>\n",
       "</div>"
      ],
      "text/plain": [
       "         Closing Price\n",
       "Week_No               \n",
       "Week 1      104.735606\n",
       "Week 2      104.770635\n",
       "Week 3      105.226984\n",
       "Week 4      105.582143"
      ]
     },
     "execution_count": 160,
     "metadata": {},
     "output_type": "execute_result"
    }
   ],
   "source": [
    "print(\"The Average Price for each weeks is \")\n",
    "avwp=pd.DataFrame(stockwkpr.sort_values())\n",
    "avwp"
   ]
  },
  {
   "cell_type": "code",
   "execution_count": 161,
   "metadata": {},
   "outputs": [
    {
     "data": {
      "text/plain": [
       "<Axes: title={'center': 'Average Closing Price For Each Week'}, xlabel='Week_No'>"
      ]
     },
     "execution_count": 161,
     "metadata": {},
     "output_type": "execute_result"
    },
    {
     "data": {
      "image/png": "[encoded data removed]",
      "text/plain": [
       "<Figure size 640x480 with 1 Axes>"
      ]
     },
     "metadata": {},
     "output_type": "display_data"
    }
   ],
   "source": [
    "avwp.plot(kind=\"bar\",title=\"Average Closing Price For Each Week\", )\n"
   ]
  },
  {
   "cell_type": "code",
   "execution_count": 162,
   "metadata": {},
   "outputs": [],
   "source": [
    "lowpr=stock[\"Closing Price\"].min()\n",
    "hghpr=stock[\"Closing Price\"].max()"
   ]
  },
  {
   "cell_type": "code",
   "execution_count": 163,
   "metadata": {},
   "outputs": [
    {
     "name": "stdout",
     "output_type": "stream",
     "text": [
      "The lowest price is for the year is  98.6  and the date that had the lowest price occurence is \n",
      "     Closing Price  Year     Month Day Week_No\n",
      "39           98.6  2023  February  09  Week 2\n"
     ]
    }
   ],
   "source": [
    "print(\"The lowest price is for the year is \",lowpr,\" and the date that had the lowest price occurence is \\n\",stock[stock[\"Closing Price\"]==lowpr])\n"
   ]
  },
  {
   "cell_type": "code",
   "execution_count": 164,
   "metadata": {},
   "outputs": [
    {
     "name": "stdout",
     "output_type": "stream",
     "text": [
      "The highest price for the year  is  110.6  and the date that had the highest price occurence is \n",
      "      Closing Price  Year   Month Day Week_No\n",
      "230          110.6  2023  August  19  Week 3\n"
     ]
    }
   ],
   "source": [
    "print(\"The highest price for the year  is \",hghpr,\" and the date that had the highest price occurence is \\n\",stock[stock[\"Closing Price\"]==hghpr])"
   ]
  },
  {
   "cell_type": "code",
   "execution_count": 165,
   "metadata": {},
   "outputs": [],
   "source": [
    "stockmonprsum=stock.groupby(\"Month\")[\"Closing Price\"].sum().sort_values()"
   ]
  },
  {
   "cell_type": "code",
   "execution_count": 166,
   "metadata": {},
   "outputs": [
    {
     "name": "stdout",
     "output_type": "stream",
     "text": [
      "The Total Price for each month is \n"
     ]
    },
    {
     "data": {
      "text/html": [
       "<div>\n",
       "<style scoped>\n",
       "    .dataframe tbody tr th:only-of-type {\n",
       "        vertical-align: middle;\n",
       "    }\n",
       "\n",
       "    .dataframe tbody tr th {\n",
       "        vertical-align: top;\n",
       "    }\n",
       "\n",
       "    .dataframe thead th {\n",
       "        text-align: right;\n",
       "    }\n",
       "</style>\n",
       "<table border=\"1\" class=\"dataframe\">\n",
       "  <thead>\n",
       "    <tr style=\"text-align: right;\">\n",
       "      <th></th>\n",
       "      <th>Closing Price</th>\n",
       "    </tr>\n",
       "    <tr>\n",
       "      <th>Month</th>\n",
       "      <th></th>\n",
       "    </tr>\n",
       "  </thead>\n",
       "  <tbody>\n",
       "    <tr>\n",
       "      <th>October</th>\n",
       "      <td>329.40</td>\n",
       "    </tr>\n",
       "    <tr>\n",
       "      <th>February</th>\n",
       "      <td>2794.25</td>\n",
       "    </tr>\n",
       "    <tr>\n",
       "      <th>April</th>\n",
       "      <td>3110.60</td>\n",
       "    </tr>\n",
       "    <tr>\n",
       "      <th>January</th>\n",
       "      <td>3143.55</td>\n",
       "    </tr>\n",
       "    <tr>\n",
       "      <th>March</th>\n",
       "      <td>3158.20</td>\n",
       "    </tr>\n",
       "    <tr>\n",
       "      <th>June</th>\n",
       "      <td>3183.40</td>\n",
       "    </tr>\n",
       "    <tr>\n",
       "      <th>May</th>\n",
       "      <td>3239.10</td>\n",
       "    </tr>\n",
       "    <tr>\n",
       "      <th>September</th>\n",
       "      <td>3298.60</td>\n",
       "    </tr>\n",
       "    <tr>\n",
       "      <th>July</th>\n",
       "      <td>3348.60</td>\n",
       "    </tr>\n",
       "    <tr>\n",
       "      <th>August</th>\n",
       "      <td>3405.60</td>\n",
       "    </tr>\n",
       "  </tbody>\n",
       "</table>\n",
       "</div>"
      ],
      "text/plain": [
       "           Closing Price\n",
       "Month                   \n",
       "October           329.40\n",
       "February         2794.25\n",
       "April            3110.60\n",
       "January          3143.55\n",
       "March            3158.20\n",
       "June             3183.40\n",
       "May              3239.10\n",
       "September        3298.60\n",
       "July             3348.60\n",
       "August           3405.60"
      ]
     },
     "execution_count": 166,
     "metadata": {},
     "output_type": "execute_result"
    }
   ],
   "source": [
    "print(\"The Total Price for each month is \"),\n",
    "pd.DataFrame(stockmonprsum)"
   ]
  },
  {
   "cell_type": "code",
   "execution_count": 167,
   "metadata": {},
   "outputs": [],
   "source": [
    "hm=stockmonprsum.max()\n",
    "lm=stockmonprsum.min()"
   ]
  },
  {
   "cell_type": "code",
   "execution_count": 168,
   "metadata": {},
   "outputs": [],
   "source": [
    "mon=pd.DataFrame(stockmonprsum)"
   ]
  },
  {
   "cell_type": "code",
   "execution_count": 169,
   "metadata": {},
   "outputs": [
    {
     "name": "stdout",
     "output_type": "stream",
     "text": [
      "The month with the lowest price is  329.4  and the month that had the lowest price occurence is \n"
     ]
    },
    {
     "data": {
      "text/html": [
       "<div>\n",
       "<style scoped>\n",
       "    .dataframe tbody tr th:only-of-type {\n",
       "        vertical-align: middle;\n",
       "    }\n",
       "\n",
       "    .dataframe tbody tr th {\n",
       "        vertical-align: top;\n",
       "    }\n",
       "\n",
       "    .dataframe thead th {\n",
       "        text-align: right;\n",
       "    }\n",
       "</style>\n",
       "<table border=\"1\" class=\"dataframe\">\n",
       "  <thead>\n",
       "    <tr style=\"text-align: right;\">\n",
       "      <th></th>\n",
       "      <th>Closing Price</th>\n",
       "    </tr>\n",
       "    <tr>\n",
       "      <th>Month</th>\n",
       "      <th></th>\n",
       "    </tr>\n",
       "  </thead>\n",
       "  <tbody>\n",
       "    <tr>\n",
       "      <th>October</th>\n",
       "      <td>329.4</td>\n",
       "    </tr>\n",
       "  </tbody>\n",
       "</table>\n",
       "</div>"
      ],
      "text/plain": [
       "         Closing Price\n",
       "Month                 \n",
       "October          329.4"
      ]
     },
     "execution_count": 169,
     "metadata": {},
     "output_type": "execute_result"
    }
   ],
   "source": [
    "print(\"The month with the lowest price is \",lm,\" and the month that had the lowest price occurence is \")\n",
    "mon[mon[\"Closing Price\"]==lm]"
   ]
  },
  {
   "cell_type": "code",
   "execution_count": 170,
   "metadata": {},
   "outputs": [
    {
     "name": "stdout",
     "output_type": "stream",
     "text": [
      "The month with the highest price is  3405.6  and the month that had the highest price occurence is \n"
     ]
    },
    {
     "data": {
      "text/html": [
       "<div>\n",
       "<style scoped>\n",
       "    .dataframe tbody tr th:only-of-type {\n",
       "        vertical-align: middle;\n",
       "    }\n",
       "\n",
       "    .dataframe tbody tr th {\n",
       "        vertical-align: top;\n",
       "    }\n",
       "\n",
       "    .dataframe thead th {\n",
       "        text-align: right;\n",
       "    }\n",
       "</style>\n",
       "<table border=\"1\" class=\"dataframe\">\n",
       "  <thead>\n",
       "    <tr style=\"text-align: right;\">\n",
       "      <th></th>\n",
       "      <th>Closing Price</th>\n",
       "    </tr>\n",
       "    <tr>\n",
       "      <th>Month</th>\n",
       "      <th></th>\n",
       "    </tr>\n",
       "  </thead>\n",
       "  <tbody>\n",
       "    <tr>\n",
       "      <th>August</th>\n",
       "      <td>3405.6</td>\n",
       "    </tr>\n",
       "  </tbody>\n",
       "</table>\n",
       "</div>"
      ],
      "text/plain": [
       "        Closing Price\n",
       "Month                \n",
       "August         3405.6"
      ]
     },
     "execution_count": 170,
     "metadata": {},
     "output_type": "execute_result"
    }
   ],
   "source": [
    "print(\"The month with the highest price is \",hm,\" and the month that had the highest price occurence is \")\n",
    "mon[mon[\"Closing Price\"]==hm]"
   ]
  },
  {
   "cell_type": "code",
   "execution_count": 171,
   "metadata": {},
   "outputs": [],
   "source": [
    "stockwkprsum=stock.groupby(\"Week_No\")[\"Closing Price\"].sum()"
   ]
  },
  {
   "cell_type": "code",
   "execution_count": 172,
   "metadata": {},
   "outputs": [
    {
     "name": "stdout",
     "output_type": "stream",
     "text": [
      "The Total Price for each week of the month is \n"
     ]
    },
    {
     "data": {
      "text/html": [
       "<div>\n",
       "<style scoped>\n",
       "    .dataframe tbody tr th:only-of-type {\n",
       "        vertical-align: middle;\n",
       "    }\n",
       "\n",
       "    .dataframe tbody tr th {\n",
       "        vertical-align: top;\n",
       "    }\n",
       "\n",
       "    .dataframe thead th {\n",
       "        text-align: right;\n",
       "    }\n",
       "</style>\n",
       "<table border=\"1\" class=\"dataframe\">\n",
       "  <thead>\n",
       "    <tr style=\"text-align: right;\">\n",
       "      <th></th>\n",
       "      <th>Closing Price</th>\n",
       "    </tr>\n",
       "    <tr>\n",
       "      <th>Week_No</th>\n",
       "      <th></th>\n",
       "    </tr>\n",
       "  </thead>\n",
       "  <tbody>\n",
       "    <tr>\n",
       "      <th>Week 2</th>\n",
       "      <td>6600.55</td>\n",
       "    </tr>\n",
       "    <tr>\n",
       "      <th>Week 3</th>\n",
       "      <td>6629.30</td>\n",
       "    </tr>\n",
       "    <tr>\n",
       "      <th>Week 1</th>\n",
       "      <td>6912.55</td>\n",
       "    </tr>\n",
       "    <tr>\n",
       "      <th>Week 4</th>\n",
       "      <td>8868.90</td>\n",
       "    </tr>\n",
       "  </tbody>\n",
       "</table>\n",
       "</div>"
      ],
      "text/plain": [
       "         Closing Price\n",
       "Week_No               \n",
       "Week 2         6600.55\n",
       "Week 3         6629.30\n",
       "Week 1         6912.55\n",
       "Week 4         8868.90"
      ]
     },
     "execution_count": 172,
     "metadata": {},
     "output_type": "execute_result"
    }
   ],
   "source": [
    "print(\"The Total Price for each week of the month is \"),\n",
    "pd.DataFrame(stockwkprsum.sort_values())"
   ]
  },
  {
   "cell_type": "code",
   "execution_count": 173,
   "metadata": {},
   "outputs": [],
   "source": [
    "hw=stockwkprsum.max()\n",
    "lw=stockwkprsum.min()"
   ]
  },
  {
   "cell_type": "code",
   "execution_count": 174,
   "metadata": {},
   "outputs": [],
   "source": [
    "wk=pd.DataFrame(stockwkprsum)"
   ]
  },
  {
   "cell_type": "code",
   "execution_count": 175,
   "metadata": {},
   "outputs": [
    {
     "name": "stdout",
     "output_type": "stream",
     "text": [
      "The week with the lowest price is  6600.55  and the week that had the lowest price occurence is \n"
     ]
    },
    {
     "data": {
      "text/html": [
       "<div>\n",
       "<style scoped>\n",
       "    .dataframe tbody tr th:only-of-type {\n",
       "        vertical-align: middle;\n",
       "    }\n",
       "\n",
       "    .dataframe tbody tr th {\n",
       "        vertical-align: top;\n",
       "    }\n",
       "\n",
       "    .dataframe thead th {\n",
       "        text-align: right;\n",
       "    }\n",
       "</style>\n",
       "<table border=\"1\" class=\"dataframe\">\n",
       "  <thead>\n",
       "    <tr style=\"text-align: right;\">\n",
       "      <th></th>\n",
       "      <th>Closing Price</th>\n",
       "    </tr>\n",
       "    <tr>\n",
       "      <th>Week_No</th>\n",
       "      <th></th>\n",
       "    </tr>\n",
       "  </thead>\n",
       "  <tbody>\n",
       "    <tr>\n",
       "      <th>Week 2</th>\n",
       "      <td>6600.55</td>\n",
       "    </tr>\n",
       "  </tbody>\n",
       "</table>\n",
       "</div>"
      ],
      "text/plain": [
       "         Closing Price\n",
       "Week_No               \n",
       "Week 2         6600.55"
      ]
     },
     "execution_count": 175,
     "metadata": {},
     "output_type": "execute_result"
    }
   ],
   "source": [
    "print(\"The week with the lowest price is \",lw,\" and the week that had the lowest price occurence is \")\n",
    "wk[wk[\"Closing Price\"]==lw]"
   ]
  },
  {
   "cell_type": "code",
   "execution_count": 176,
   "metadata": {},
   "outputs": [
    {
     "name": "stdout",
     "output_type": "stream",
     "text": [
      "The week with the highest price is  8868.9  and the week that had the highest price occurence is \n"
     ]
    },
    {
     "data": {
      "text/html": [
       "<div>\n",
       "<style scoped>\n",
       "    .dataframe tbody tr th:only-of-type {\n",
       "        vertical-align: middle;\n",
       "    }\n",
       "\n",
       "    .dataframe tbody tr th {\n",
       "        vertical-align: top;\n",
       "    }\n",
       "\n",
       "    .dataframe thead th {\n",
       "        text-align: right;\n",
       "    }\n",
       "</style>\n",
       "<table border=\"1\" class=\"dataframe\">\n",
       "  <thead>\n",
       "    <tr style=\"text-align: right;\">\n",
       "      <th></th>\n",
       "      <th>Closing Price</th>\n",
       "    </tr>\n",
       "    <tr>\n",
       "      <th>Week_No</th>\n",
       "      <th></th>\n",
       "    </tr>\n",
       "  </thead>\n",
       "  <tbody>\n",
       "    <tr>\n",
       "      <th>Week 4</th>\n",
       "      <td>8868.9</td>\n",
       "    </tr>\n",
       "  </tbody>\n",
       "</table>\n",
       "</div>"
      ],
      "text/plain": [
       "         Closing Price\n",
       "Week_No               \n",
       "Week 4          8868.9"
      ]
     },
     "execution_count": 176,
     "metadata": {},
     "output_type": "execute_result"
    }
   ],
   "source": [
    "print(\"The week with the highest price is \",hw,\" and the week that had the highest price occurence is \")\n",
    "wk[wk[\"Closing Price\"]==hw]"
   ]
  },
  {
   "cell_type": "code",
   "execution_count": 177,
   "metadata": {},
   "outputs": [
    {
     "name": "stdout",
     "output_type": "stream",
     "text": [
      "The Standard Deviation of the Closing price is  3.581345810294187\n"
     ]
    }
   ],
   "source": [
    "print(\"The Standard Deviation of the Closing price is \",stock[\"Closing Price\"].std())"
   ]
  },
  {
   "cell_type": "code",
   "execution_count": 178,
   "metadata": {},
   "outputs": [
    {
     "data": {
      "text/html": [
       "<div>\n",
       "<style scoped>\n",
       "    .dataframe tbody tr th:only-of-type {\n",
       "        vertical-align: middle;\n",
       "    }\n",
       "\n",
       "    .dataframe tbody tr th {\n",
       "        vertical-align: top;\n",
       "    }\n",
       "\n",
       "    .dataframe thead th {\n",
       "        text-align: right;\n",
       "    }\n",
       "</style>\n",
       "<table border=\"1\" class=\"dataframe\">\n",
       "  <thead>\n",
       "    <tr style=\"text-align: right;\">\n",
       "      <th></th>\n",
       "      <th>Closing Price</th>\n",
       "    </tr>\n",
       "  </thead>\n",
       "  <tbody>\n",
       "    <tr>\n",
       "      <th>count</th>\n",
       "      <td>276.000000</td>\n",
       "    </tr>\n",
       "    <tr>\n",
       "      <th>mean</th>\n",
       "      <td>105.113406</td>\n",
       "    </tr>\n",
       "    <tr>\n",
       "      <th>std</th>\n",
       "      <td>3.581346</td>\n",
       "    </tr>\n",
       "    <tr>\n",
       "      <th>min</th>\n",
       "      <td>98.600000</td>\n",
       "    </tr>\n",
       "    <tr>\n",
       "      <th>25%</th>\n",
       "      <td>102.500000</td>\n",
       "    </tr>\n",
       "    <tr>\n",
       "      <th>50%</th>\n",
       "      <td>104.600000</td>\n",
       "    </tr>\n",
       "    <tr>\n",
       "      <th>75%</th>\n",
       "      <td>108.800000</td>\n",
       "    </tr>\n",
       "    <tr>\n",
       "      <th>max</th>\n",
       "      <td>110.600000</td>\n",
       "    </tr>\n",
       "  </tbody>\n",
       "</table>\n",
       "</div>"
      ],
      "text/plain": [
       "       Closing Price\n",
       "count     276.000000\n",
       "mean      105.113406\n",
       "std         3.581346\n",
       "min        98.600000\n",
       "25%       102.500000\n",
       "50%       104.600000\n",
       "75%       108.800000\n",
       "max       110.600000"
      ]
     },
     "execution_count": 178,
     "metadata": {},
     "output_type": "execute_result"
    }
   ],
   "source": [
    "stock.describe()"
   ]
  },
  {
   "cell_type": "code",
   "execution_count": 179,
   "metadata": {},
   "outputs": [],
   "source": [
    "monlas=stock.groupby(\"Month\").tail(1)\n",
    "monfir=stock.groupby(\"Month\").head(1)"
   ]
  },
  {
   "cell_type": "code",
   "execution_count": 180,
   "metadata": {},
   "outputs": [],
   "source": [
    "monfir.reset_index(inplace=True)"
   ]
  },
  {
   "cell_type": "code",
   "execution_count": 181,
   "metadata": {},
   "outputs": [],
   "source": [
    "monlas.reset_index(inplace=True)"
   ]
  },
  {
   "cell_type": "code",
   "execution_count": 182,
   "metadata": {},
   "outputs": [],
   "source": [
    "flmon=pd.merge(monfir,monlas,how=\"outer\")"
   ]
  },
  {
   "cell_type": "code",
   "execution_count": 183,
   "metadata": {},
   "outputs": [],
   "source": [
    "sortmon=flmon.groupby(\"Month\").head(2)"
   ]
  },
  {
   "cell_type": "code",
   "execution_count": 184,
   "metadata": {},
   "outputs": [],
   "source": [
    "sortmon.drop(columns=\"index\",inplace=True)"
   ]
  },
  {
   "cell_type": "code",
   "execution_count": 185,
   "metadata": {},
   "outputs": [
    {
     "data": {
      "text/html": [
       "<div>\n",
       "<style scoped>\n",
       "    .dataframe tbody tr th:only-of-type {\n",
       "        vertical-align: middle;\n",
       "    }\n",
       "\n",
       "    .dataframe tbody tr th {\n",
       "        vertical-align: top;\n",
       "    }\n",
       "\n",
       "    .dataframe thead th {\n",
       "        text-align: right;\n",
       "    }\n",
       "</style>\n",
       "<table border=\"1\" class=\"dataframe\">\n",
       "  <thead>\n",
       "    <tr style=\"text-align: right;\">\n",
       "      <th></th>\n",
       "      <th>Closing Price</th>\n",
       "      <th>Year</th>\n",
       "      <th>Month</th>\n",
       "      <th>Day</th>\n",
       "      <th>Week_No</th>\n",
       "    </tr>\n",
       "  </thead>\n",
       "  <tbody>\n",
       "    <tr>\n",
       "      <th>0</th>\n",
       "      <td>100.25</td>\n",
       "      <td>2023</td>\n",
       "      <td>January</td>\n",
       "      <td>01</td>\n",
       "      <td>Week 1</td>\n",
       "    </tr>\n",
       "    <tr>\n",
       "      <th>1</th>\n",
       "      <td>100.10</td>\n",
       "      <td>2023</td>\n",
       "      <td>January</td>\n",
       "      <td>31</td>\n",
       "      <td>Week 4</td>\n",
       "    </tr>\n",
       "    <tr>\n",
       "      <th>2</th>\n",
       "      <td>100.60</td>\n",
       "      <td>2023</td>\n",
       "      <td>February</td>\n",
       "      <td>01</td>\n",
       "      <td>Week 1</td>\n",
       "    </tr>\n",
       "    <tr>\n",
       "      <th>3</th>\n",
       "      <td>100.40</td>\n",
       "      <td>2023</td>\n",
       "      <td>February</td>\n",
       "      <td>28</td>\n",
       "      <td>Week 4</td>\n",
       "    </tr>\n",
       "    <tr>\n",
       "      <th>4</th>\n",
       "      <td>100.20</td>\n",
       "      <td>2023</td>\n",
       "      <td>March</td>\n",
       "      <td>01</td>\n",
       "      <td>Week 1</td>\n",
       "    </tr>\n",
       "    <tr>\n",
       "      <th>5</th>\n",
       "      <td>103.40</td>\n",
       "      <td>2023</td>\n",
       "      <td>March</td>\n",
       "      <td>31</td>\n",
       "      <td>Week 4</td>\n",
       "    </tr>\n",
       "    <tr>\n",
       "      <th>6</th>\n",
       "      <td>103.20</td>\n",
       "      <td>2023</td>\n",
       "      <td>April</td>\n",
       "      <td>01</td>\n",
       "      <td>Week 1</td>\n",
       "    </tr>\n",
       "    <tr>\n",
       "      <th>7</th>\n",
       "      <td>103.80</td>\n",
       "      <td>2023</td>\n",
       "      <td>April</td>\n",
       "      <td>30</td>\n",
       "      <td>Week 4</td>\n",
       "    </tr>\n",
       "    <tr>\n",
       "      <th>8</th>\n",
       "      <td>104.10</td>\n",
       "      <td>2023</td>\n",
       "      <td>May</td>\n",
       "      <td>01</td>\n",
       "      <td>Week 1</td>\n",
       "    </tr>\n",
       "    <tr>\n",
       "      <th>9</th>\n",
       "      <td>105.40</td>\n",
       "      <td>2023</td>\n",
       "      <td>May</td>\n",
       "      <td>31</td>\n",
       "      <td>Week 4</td>\n",
       "    </tr>\n",
       "    <tr>\n",
       "      <th>10</th>\n",
       "      <td>105.60</td>\n",
       "      <td>2023</td>\n",
       "      <td>June</td>\n",
       "      <td>01</td>\n",
       "      <td>Week 1</td>\n",
       "    </tr>\n",
       "    <tr>\n",
       "      <th>11</th>\n",
       "      <td>107.40</td>\n",
       "      <td>2023</td>\n",
       "      <td>June</td>\n",
       "      <td>30</td>\n",
       "      <td>Week 4</td>\n",
       "    </tr>\n",
       "    <tr>\n",
       "      <th>12</th>\n",
       "      <td>107.60</td>\n",
       "      <td>2023</td>\n",
       "      <td>July</td>\n",
       "      <td>01</td>\n",
       "      <td>Week 1</td>\n",
       "    </tr>\n",
       "    <tr>\n",
       "      <th>13</th>\n",
       "      <td>108.80</td>\n",
       "      <td>2023</td>\n",
       "      <td>July</td>\n",
       "      <td>31</td>\n",
       "      <td>Week 4</td>\n",
       "    </tr>\n",
       "    <tr>\n",
       "      <th>14</th>\n",
       "      <td>109.00</td>\n",
       "      <td>2023</td>\n",
       "      <td>August</td>\n",
       "      <td>01</td>\n",
       "      <td>Week 1</td>\n",
       "    </tr>\n",
       "    <tr>\n",
       "      <th>15</th>\n",
       "      <td>110.20</td>\n",
       "      <td>2023</td>\n",
       "      <td>August</td>\n",
       "      <td>31</td>\n",
       "      <td>Week 4</td>\n",
       "    </tr>\n",
       "    <tr>\n",
       "      <th>16</th>\n",
       "      <td>110.40</td>\n",
       "      <td>2023</td>\n",
       "      <td>September</td>\n",
       "      <td>01</td>\n",
       "      <td>Week 1</td>\n",
       "    </tr>\n",
       "    <tr>\n",
       "      <th>17</th>\n",
       "      <td>109.80</td>\n",
       "      <td>2023</td>\n",
       "      <td>September</td>\n",
       "      <td>30</td>\n",
       "      <td>Week 4</td>\n",
       "    </tr>\n",
       "    <tr>\n",
       "      <th>18</th>\n",
       "      <td>109.60</td>\n",
       "      <td>2023</td>\n",
       "      <td>October</td>\n",
       "      <td>01</td>\n",
       "      <td>Week 1</td>\n",
       "    </tr>\n",
       "    <tr>\n",
       "      <th>19</th>\n",
       "      <td>110.00</td>\n",
       "      <td>2023</td>\n",
       "      <td>October</td>\n",
       "      <td>03</td>\n",
       "      <td>Week 1</td>\n",
       "    </tr>\n",
       "  </tbody>\n",
       "</table>\n",
       "</div>"
      ],
      "text/plain": [
       "    Closing Price  Year      Month Day Week_No\n",
       "0          100.25  2023    January  01  Week 1\n",
       "1          100.10  2023    January  31  Week 4\n",
       "2          100.60  2023   February  01  Week 1\n",
       "3          100.40  2023   February  28  Week 4\n",
       "4          100.20  2023      March  01  Week 1\n",
       "5          103.40  2023      March  31  Week 4\n",
       "6          103.20  2023      April  01  Week 1\n",
       "7          103.80  2023      April  30  Week 4\n",
       "8          104.10  2023        May  01  Week 1\n",
       "9          105.40  2023        May  31  Week 4\n",
       "10         105.60  2023       June  01  Week 1\n",
       "11         107.40  2023       June  30  Week 4\n",
       "12         107.60  2023       July  01  Week 1\n",
       "13         108.80  2023       July  31  Week 4\n",
       "14         109.00  2023     August  01  Week 1\n",
       "15         110.20  2023     August  31  Week 4\n",
       "16         110.40  2023  September  01  Week 1\n",
       "17         109.80  2023  September  30  Week 4\n",
       "18         109.60  2023    October  01  Week 1\n",
       "19         110.00  2023    October  03  Week 1"
      ]
     },
     "execution_count": 185,
     "metadata": {},
     "output_type": "execute_result"
    }
   ],
   "source": [
    "sortmon"
   ]
  },
  {
   "cell_type": "code",
   "execution_count": 186,
   "metadata": {},
   "outputs": [],
   "source": [
    "percmon=((monlas.loc[:,\"Closing Price\"]-monfir.loc[:,\"Closing Price\"])/monfir.loc[:,\"Closing Price\"]*100)"
   ]
  },
  {
   "cell_type": "code",
   "execution_count": 187,
   "metadata": {},
   "outputs": [],
   "source": [
    "mont= pd.DataFrame(stock.loc[:,\"Month\"].unique())"
   ]
  },
  {
   "cell_type": "code",
   "execution_count": 188,
   "metadata": {},
   "outputs": [],
   "source": [
    "perc=pd.DataFrame(round(percmon,3))"
   ]
  },
  {
   "cell_type": "code",
   "execution_count": 189,
   "metadata": {},
   "outputs": [],
   "source": [
    "mont.insert(1,\"%Change_In_Price\",perc,True)"
   ]
  },
  {
   "cell_type": "code",
   "execution_count": 190,
   "metadata": {},
   "outputs": [
    {
     "data": {
      "text/html": [
       "<div>\n",
       "<style scoped>\n",
       "    .dataframe tbody tr th:only-of-type {\n",
       "        vertical-align: middle;\n",
       "    }\n",
       "\n",
       "    .dataframe tbody tr th {\n",
       "        vertical-align: top;\n",
       "    }\n",
       "\n",
       "    .dataframe thead th {\n",
       "        text-align: right;\n",
       "    }\n",
       "</style>\n",
       "<table border=\"1\" class=\"dataframe\">\n",
       "  <thead>\n",
       "    <tr style=\"text-align: right;\">\n",
       "      <th></th>\n",
       "      <th>Months</th>\n",
       "      <th>%Change_In_Price</th>\n",
       "    </tr>\n",
       "  </thead>\n",
       "  <tbody>\n",
       "    <tr>\n",
       "      <th>0</th>\n",
       "      <td>January</td>\n",
       "      <td>-0.150</td>\n",
       "    </tr>\n",
       "    <tr>\n",
       "      <th>1</th>\n",
       "      <td>February</td>\n",
       "      <td>-0.199</td>\n",
       "    </tr>\n",
       "    <tr>\n",
       "      <th>2</th>\n",
       "      <td>March</td>\n",
       "      <td>3.194</td>\n",
       "    </tr>\n",
       "    <tr>\n",
       "      <th>3</th>\n",
       "      <td>April</td>\n",
       "      <td>0.581</td>\n",
       "    </tr>\n",
       "    <tr>\n",
       "      <th>4</th>\n",
       "      <td>May</td>\n",
       "      <td>1.249</td>\n",
       "    </tr>\n",
       "    <tr>\n",
       "      <th>5</th>\n",
       "      <td>June</td>\n",
       "      <td>1.705</td>\n",
       "    </tr>\n",
       "    <tr>\n",
       "      <th>6</th>\n",
       "      <td>July</td>\n",
       "      <td>1.115</td>\n",
       "    </tr>\n",
       "    <tr>\n",
       "      <th>7</th>\n",
       "      <td>August</td>\n",
       "      <td>1.101</td>\n",
       "    </tr>\n",
       "    <tr>\n",
       "      <th>8</th>\n",
       "      <td>September</td>\n",
       "      <td>-0.543</td>\n",
       "    </tr>\n",
       "    <tr>\n",
       "      <th>9</th>\n",
       "      <td>October</td>\n",
       "      <td>0.365</td>\n",
       "    </tr>\n",
       "  </tbody>\n",
       "</table>\n",
       "</div>"
      ],
      "text/plain": [
       "      Months  %Change_In_Price\n",
       "0    January            -0.150\n",
       "1   February            -0.199\n",
       "2      March             3.194\n",
       "3      April             0.581\n",
       "4        May             1.249\n",
       "5       June             1.705\n",
       "6       July             1.115\n",
       "7     August             1.101\n",
       "8  September            -0.543\n",
       "9    October             0.365"
      ]
     },
     "execution_count": 190,
     "metadata": {},
     "output_type": "execute_result"
    }
   ],
   "source": [
    "mont.rename(columns={\n",
    "    0:\"Months\"\n",
    "})"
   ]
  }
 ],
 "metadata": {
  "kernelspec": {
   "display_name": "Python 3",
   "language": "python",
   "name": "python3"
  },
  "language_info": {
   "codemirror_mode": {
    "name": "ipython",
    "version": 3
   },
   "file_extension": ".py",
   "mimetype": "text/x-python",
   "name": "python",
   "nbconvert_exporter": "python",
   "pygments_lexer": "ipython3",
   "version": "3.12.5"
  }
 },
 "nbformat": 4,
 "nbformat_minor": 2
}
